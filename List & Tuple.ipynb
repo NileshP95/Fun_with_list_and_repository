{
 "cells": [
  {
   "cell_type": "code",
   "execution_count": 9,
   "id": "2af07e14",
   "metadata": {},
   "outputs": [
    {
     "name": "stdout",
     "output_type": "stream",
     "text": [
      "Expected Output: [(2, 1), (1, 2), (2, 3), (4, 4), (2, 5)]\n"
     ]
    }
   ],
   "source": [
    "l = [(2, 5), (1, 2), (4, 4),(2, 3), (2, 1)]\n",
    "# expected [(2, 1), (1, 2), (2, 3), (4, 4), (2, 5)]\n",
    "\n",
    "for i in range(len(l)):\n",
    "    for j in range(len(l)):\n",
    "        a = l[i]\n",
    "        b = l[j]\n",
    "        if b[-1] > a[-1]:\n",
    "            l[i], l[j] = l[j], l[i]\n",
    "\n",
    "print(\"Expected Output:\",l)"
   ]
  },
  {
   "cell_type": "code",
   "execution_count": null,
   "id": "4689e63c",
   "metadata": {},
   "outputs": [],
   "source": []
  }
 ],
 "metadata": {
  "kernelspec": {
   "display_name": "Python 3 (ipykernel)",
   "language": "python",
   "name": "python3"
  },
  "language_info": {
   "codemirror_mode": {
    "name": "ipython",
    "version": 3
   },
   "file_extension": ".py",
   "mimetype": "text/x-python",
   "name": "python",
   "nbconvert_exporter": "python",
   "pygments_lexer": "ipython3",
   "version": "3.8.10"
  }
 },
 "nbformat": 4,
 "nbformat_minor": 5
}
